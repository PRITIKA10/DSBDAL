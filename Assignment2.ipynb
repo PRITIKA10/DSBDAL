{
  "cells": [
    {
      "cell_type": "markdown",
      "metadata": {
        "id": "view-in-github",
        "colab_type": "text"
      },
      "source": [
        "<a href=\"https://colab.research.google.com/github/PRITIKA10/DSBDAL/blob/main/Assignment2.ipynb\" target=\"_parent\"><img src=\"https://colab.research.google.com/assets/colab-badge.svg\" alt=\"Open In Colab\"/></a>"
      ]
    },
    {
      "cell_type": "markdown",
      "id": "d37e15cd-09eb-436e-9683-fba5431908f2",
      "metadata": {
        "id": "d37e15cd-09eb-436e-9683-fba5431908f2"
      },
      "source": [
        "## Data Wrangling II\n",
        "Create an “Academic performance” dataset of students and perform the following operations\n",
        "using Python.\n",
        "1. Scan all variables for missing values and inconsistencies. If there are missing values\n",
        "and/or inconsistencies, use any of the suitable techniques to deal with them.\n",
        "2. Scan all numeric variables for outliers. If there are outliers, use any of the suitable\n",
        "techniques to deal with them.\n",
        "3. Apply data transformations on at least one of the variables. The purpose of this\n",
        "transformation should be one of the following reasons: to change the scale for better\n",
        "understanding of the variable, to convert a non-linear relation into a linear one, or to\n",
        "decrease the skewness and convert the distribution into a normal distribution.\n",
        "Reason and document your approach properly."
      ]
    },
    {
      "cell_type": "code",
      "execution_count": null,
      "id": "3c6f4261-e07f-46dd-8b97-0c05842aeb71",
      "metadata": {
        "id": "3c6f4261-e07f-46dd-8b97-0c05842aeb71"
      },
      "outputs": [],
      "source": [
        "import pandas as pd\n",
        "import numpy as np\n",
        "import matplotlib.pyplot as plt\n",
        "import seaborn as sns"
      ]
    },
    {
      "cell_type": "code",
      "execution_count": null,
      "id": "e1685207-3519-437b-ad54-a9924e05584e",
      "metadata": {
        "id": "e1685207-3519-437b-ad54-a9924e05584e",
        "outputId": "9ffd1663-73a7-458c-eb5d-4b83b9c0e84a"
      },
      "outputs": [
        {
          "data": {
            "text/html": [
              "<div>\n",
              "<style scoped>\n",
              "    .dataframe tbody tr th:only-of-type {\n",
              "        vertical-align: middle;\n",
              "    }\n",
              "\n",
              "    .dataframe tbody tr th {\n",
              "        vertical-align: top;\n",
              "    }\n",
              "\n",
              "    .dataframe thead th {\n",
              "        text-align: right;\n",
              "    }\n",
              "</style>\n",
              "<table border=\"1\" class=\"dataframe\">\n",
              "  <thead>\n",
              "    <tr style=\"text-align: right;\">\n",
              "      <th></th>\n",
              "      <th>gender</th>\n",
              "      <th>race/ethnicity</th>\n",
              "      <th>parental level of education</th>\n",
              "      <th>lunch</th>\n",
              "      <th>test preparation course</th>\n",
              "      <th>math score</th>\n",
              "      <th>reading score</th>\n",
              "      <th>writing score</th>\n",
              "    </tr>\n",
              "  </thead>\n",
              "  <tbody>\n",
              "    <tr>\n",
              "      <th>0</th>\n",
              "      <td>female</td>\n",
              "      <td>group B</td>\n",
              "      <td>bachelor's degree</td>\n",
              "      <td>standard</td>\n",
              "      <td>none</td>\n",
              "      <td>72</td>\n",
              "      <td>72.0</td>\n",
              "      <td>74.0</td>\n",
              "    </tr>\n",
              "    <tr>\n",
              "      <th>1</th>\n",
              "      <td>female</td>\n",
              "      <td>group C</td>\n",
              "      <td>some college</td>\n",
              "      <td>standard</td>\n",
              "      <td>completed</td>\n",
              "      <td>69</td>\n",
              "      <td>90.0</td>\n",
              "      <td>88.0</td>\n",
              "    </tr>\n",
              "    <tr>\n",
              "      <th>2</th>\n",
              "      <td>female</td>\n",
              "      <td>group B</td>\n",
              "      <td>master's degree</td>\n",
              "      <td>standard</td>\n",
              "      <td>none</td>\n",
              "      <td>90</td>\n",
              "      <td>95.0</td>\n",
              "      <td>93.0</td>\n",
              "    </tr>\n",
              "    <tr>\n",
              "      <th>3</th>\n",
              "      <td>male</td>\n",
              "      <td>group A</td>\n",
              "      <td>associate's degree</td>\n",
              "      <td>free/reduced</td>\n",
              "      <td>none</td>\n",
              "      <td>47</td>\n",
              "      <td>57.0</td>\n",
              "      <td>44.0</td>\n",
              "    </tr>\n",
              "    <tr>\n",
              "      <th>4</th>\n",
              "      <td>male</td>\n",
              "      <td>group C</td>\n",
              "      <td>some college</td>\n",
              "      <td>standard</td>\n",
              "      <td>none</td>\n",
              "      <td>76</td>\n",
              "      <td>78.0</td>\n",
              "      <td>75.0</td>\n",
              "    </tr>\n",
              "    <tr>\n",
              "      <th>...</th>\n",
              "      <td>...</td>\n",
              "      <td>...</td>\n",
              "      <td>...</td>\n",
              "      <td>...</td>\n",
              "      <td>...</td>\n",
              "      <td>...</td>\n",
              "      <td>...</td>\n",
              "      <td>...</td>\n",
              "    </tr>\n",
              "    <tr>\n",
              "      <th>995</th>\n",
              "      <td>female</td>\n",
              "      <td>group E</td>\n",
              "      <td>master's degree</td>\n",
              "      <td>standard</td>\n",
              "      <td>completed</td>\n",
              "      <td>88</td>\n",
              "      <td>99.0</td>\n",
              "      <td>95.0</td>\n",
              "    </tr>\n",
              "    <tr>\n",
              "      <th>996</th>\n",
              "      <td>male</td>\n",
              "      <td>group C</td>\n",
              "      <td>high school</td>\n",
              "      <td>free/reduced</td>\n",
              "      <td>none</td>\n",
              "      <td>62</td>\n",
              "      <td>55.0</td>\n",
              "      <td>55.0</td>\n",
              "    </tr>\n",
              "    <tr>\n",
              "      <th>997</th>\n",
              "      <td>female</td>\n",
              "      <td>group C</td>\n",
              "      <td>high school</td>\n",
              "      <td>free/reduced</td>\n",
              "      <td>completed</td>\n",
              "      <td>59</td>\n",
              "      <td>71.0</td>\n",
              "      <td>65.0</td>\n",
              "    </tr>\n",
              "    <tr>\n",
              "      <th>998</th>\n",
              "      <td>female</td>\n",
              "      <td>group D</td>\n",
              "      <td>some college</td>\n",
              "      <td>standard</td>\n",
              "      <td>completed</td>\n",
              "      <td>68</td>\n",
              "      <td>78.0</td>\n",
              "      <td>77.0</td>\n",
              "    </tr>\n",
              "    <tr>\n",
              "      <th>999</th>\n",
              "      <td>female</td>\n",
              "      <td>group D</td>\n",
              "      <td>some college</td>\n",
              "      <td>free/reduced</td>\n",
              "      <td>none</td>\n",
              "      <td>77</td>\n",
              "      <td>86.0</td>\n",
              "      <td>86.0</td>\n",
              "    </tr>\n",
              "  </tbody>\n",
              "</table>\n",
              "<p>1000 rows × 8 columns</p>\n",
              "</div>"
            ],
            "text/plain": [
              "     gender race/ethnicity parental level of education         lunch  \\\n",
              "0    female        group B           bachelor's degree      standard   \n",
              "1    female        group C                some college      standard   \n",
              "2    female        group B             master's degree      standard   \n",
              "3      male        group A          associate's degree  free/reduced   \n",
              "4      male        group C                some college      standard   \n",
              "..      ...            ...                         ...           ...   \n",
              "995  female        group E             master's degree      standard   \n",
              "996    male        group C                 high school  free/reduced   \n",
              "997  female        group C                 high school  free/reduced   \n",
              "998  female        group D                some college      standard   \n",
              "999  female        group D                some college  free/reduced   \n",
              "\n",
              "    test preparation course math score  reading score  writing score  \n",
              "0                      none         72           72.0           74.0  \n",
              "1                 completed         69           90.0           88.0  \n",
              "2                      none         90           95.0           93.0  \n",
              "3                      none         47           57.0           44.0  \n",
              "4                      none         76           78.0           75.0  \n",
              "..                      ...        ...            ...            ...  \n",
              "995               completed         88           99.0           95.0  \n",
              "996                    none         62           55.0           55.0  \n",
              "997               completed         59           71.0           65.0  \n",
              "998               completed         68           78.0           77.0  \n",
              "999                    none         77           86.0           86.0  \n",
              "\n",
              "[1000 rows x 8 columns]"
            ]
          },
          "execution_count": 4,
          "metadata": {},
          "output_type": "execute_result"
        }
      ],
      "source": [
        "df = pd.read_csv('Academic_Performance.csv')\n",
        "df"
      ]
    },
    {
      "cell_type": "code",
      "execution_count": null,
      "id": "b8181d82-3e68-4e2d-8335-9792d3c3dcf0",
      "metadata": {
        "id": "b8181d82-3e68-4e2d-8335-9792d3c3dcf0",
        "outputId": "d1555277-882f-4ff3-b339-b2a5925fb15d"
      },
      "outputs": [
        {
          "data": {
            "text/html": [
              "<div>\n",
              "<style scoped>\n",
              "    .dataframe tbody tr th:only-of-type {\n",
              "        vertical-align: middle;\n",
              "    }\n",
              "\n",
              "    .dataframe tbody tr th {\n",
              "        vertical-align: top;\n",
              "    }\n",
              "\n",
              "    .dataframe thead th {\n",
              "        text-align: right;\n",
              "    }\n",
              "</style>\n",
              "<table border=\"1\" class=\"dataframe\">\n",
              "  <thead>\n",
              "    <tr style=\"text-align: right;\">\n",
              "      <th></th>\n",
              "      <th>gender</th>\n",
              "      <th>race</th>\n",
              "      <th>parent_edu</th>\n",
              "      <th>lunch</th>\n",
              "      <th>course_completed</th>\n",
              "      <th>score_math</th>\n",
              "      <th>score_reading</th>\n",
              "      <th>score_writing</th>\n",
              "    </tr>\n",
              "  </thead>\n",
              "  <tbody>\n",
              "    <tr>\n",
              "      <th>0</th>\n",
              "      <td>female</td>\n",
              "      <td>group B</td>\n",
              "      <td>bachelor's degree</td>\n",
              "      <td>standard</td>\n",
              "      <td>none</td>\n",
              "      <td>72</td>\n",
              "      <td>72.0</td>\n",
              "      <td>74.0</td>\n",
              "    </tr>\n",
              "    <tr>\n",
              "      <th>1</th>\n",
              "      <td>female</td>\n",
              "      <td>group C</td>\n",
              "      <td>some college</td>\n",
              "      <td>standard</td>\n",
              "      <td>completed</td>\n",
              "      <td>69</td>\n",
              "      <td>90.0</td>\n",
              "      <td>88.0</td>\n",
              "    </tr>\n",
              "    <tr>\n",
              "      <th>2</th>\n",
              "      <td>female</td>\n",
              "      <td>group B</td>\n",
              "      <td>master's degree</td>\n",
              "      <td>standard</td>\n",
              "      <td>none</td>\n",
              "      <td>90</td>\n",
              "      <td>95.0</td>\n",
              "      <td>93.0</td>\n",
              "    </tr>\n",
              "    <tr>\n",
              "      <th>3</th>\n",
              "      <td>male</td>\n",
              "      <td>group A</td>\n",
              "      <td>associate's degree</td>\n",
              "      <td>free/reduced</td>\n",
              "      <td>none</td>\n",
              "      <td>47</td>\n",
              "      <td>57.0</td>\n",
              "      <td>44.0</td>\n",
              "    </tr>\n",
              "    <tr>\n",
              "      <th>4</th>\n",
              "      <td>male</td>\n",
              "      <td>group C</td>\n",
              "      <td>some college</td>\n",
              "      <td>standard</td>\n",
              "      <td>none</td>\n",
              "      <td>76</td>\n",
              "      <td>78.0</td>\n",
              "      <td>75.0</td>\n",
              "    </tr>\n",
              "    <tr>\n",
              "      <th>5</th>\n",
              "      <td>female</td>\n",
              "      <td>group B</td>\n",
              "      <td>associate's degree</td>\n",
              "      <td>standard</td>\n",
              "      <td>none</td>\n",
              "      <td>71</td>\n",
              "      <td>83.0</td>\n",
              "      <td>78.0</td>\n",
              "    </tr>\n",
              "    <tr>\n",
              "      <th>6</th>\n",
              "      <td>female</td>\n",
              "      <td>group B</td>\n",
              "      <td>some college</td>\n",
              "      <td>standard</td>\n",
              "      <td>completed</td>\n",
              "      <td>88</td>\n",
              "      <td>95.0</td>\n",
              "      <td>92.0</td>\n",
              "    </tr>\n",
              "    <tr>\n",
              "      <th>7</th>\n",
              "      <td>male</td>\n",
              "      <td>group B</td>\n",
              "      <td>some college</td>\n",
              "      <td>free/reduced</td>\n",
              "      <td>none</td>\n",
              "      <td>40</td>\n",
              "      <td>43.0</td>\n",
              "      <td>39.0</td>\n",
              "    </tr>\n",
              "    <tr>\n",
              "      <th>8</th>\n",
              "      <td>male</td>\n",
              "      <td>group D</td>\n",
              "      <td>high school</td>\n",
              "      <td>free/reduced</td>\n",
              "      <td>completed</td>\n",
              "      <td>64</td>\n",
              "      <td>64.0</td>\n",
              "      <td>67.0</td>\n",
              "    </tr>\n",
              "    <tr>\n",
              "      <th>9</th>\n",
              "      <td>female</td>\n",
              "      <td>group B</td>\n",
              "      <td>high school</td>\n",
              "      <td>free/reduced</td>\n",
              "      <td>none</td>\n",
              "      <td>38</td>\n",
              "      <td>60.0</td>\n",
              "      <td>50.0</td>\n",
              "    </tr>\n",
              "    <tr>\n",
              "      <th>10</th>\n",
              "      <td>male</td>\n",
              "      <td>group C</td>\n",
              "      <td>associate's degree</td>\n",
              "      <td>standard</td>\n",
              "      <td>none</td>\n",
              "      <td>58</td>\n",
              "      <td>54.0</td>\n",
              "      <td>52.0</td>\n",
              "    </tr>\n",
              "    <tr>\n",
              "      <th>11</th>\n",
              "      <td>male</td>\n",
              "      <td>group D</td>\n",
              "      <td>associate's degree</td>\n",
              "      <td>standard</td>\n",
              "      <td>none</td>\n",
              "      <td>40</td>\n",
              "      <td>52.0</td>\n",
              "      <td>43.0</td>\n",
              "    </tr>\n",
              "    <tr>\n",
              "      <th>12</th>\n",
              "      <td>female</td>\n",
              "      <td>group B</td>\n",
              "      <td>high school</td>\n",
              "      <td>standard</td>\n",
              "      <td>none</td>\n",
              "      <td>65</td>\n",
              "      <td>81.0</td>\n",
              "      <td>73.0</td>\n",
              "    </tr>\n",
              "    <tr>\n",
              "      <th>13</th>\n",
              "      <td>male</td>\n",
              "      <td>group A</td>\n",
              "      <td>some college</td>\n",
              "      <td>standard</td>\n",
              "      <td>completed</td>\n",
              "      <td>78</td>\n",
              "      <td>72.0</td>\n",
              "      <td>70.0</td>\n",
              "    </tr>\n",
              "    <tr>\n",
              "      <th>14</th>\n",
              "      <td>female</td>\n",
              "      <td>group A</td>\n",
              "      <td>master's degree</td>\n",
              "      <td>standard</td>\n",
              "      <td>none</td>\n",
              "      <td>50</td>\n",
              "      <td>53.0</td>\n",
              "      <td>58.0</td>\n",
              "    </tr>\n",
              "    <tr>\n",
              "      <th>15</th>\n",
              "      <td>female</td>\n",
              "      <td>group C</td>\n",
              "      <td>some high school</td>\n",
              "      <td>standard</td>\n",
              "      <td>none</td>\n",
              "      <td>69</td>\n",
              "      <td>75.0</td>\n",
              "      <td>78.0</td>\n",
              "    </tr>\n",
              "    <tr>\n",
              "      <th>16</th>\n",
              "      <td>male</td>\n",
              "      <td>group C</td>\n",
              "      <td>high school</td>\n",
              "      <td>standard</td>\n",
              "      <td>none</td>\n",
              "      <td>88</td>\n",
              "      <td>89.0</td>\n",
              "      <td>86.0</td>\n",
              "    </tr>\n",
              "    <tr>\n",
              "      <th>17</th>\n",
              "      <td>female</td>\n",
              "      <td>group B</td>\n",
              "      <td>some high school</td>\n",
              "      <td>free/reduced</td>\n",
              "      <td>none</td>\n",
              "      <td>NaN</td>\n",
              "      <td>32.0</td>\n",
              "      <td>28.0</td>\n",
              "    </tr>\n",
              "    <tr>\n",
              "      <th>18</th>\n",
              "      <td>male</td>\n",
              "      <td>group C</td>\n",
              "      <td>master's degree</td>\n",
              "      <td>free/reduced</td>\n",
              "      <td>completed</td>\n",
              "      <td>NaN</td>\n",
              "      <td>22.0</td>\n",
              "      <td>46.0</td>\n",
              "    </tr>\n",
              "    <tr>\n",
              "      <th>19</th>\n",
              "      <td>female</td>\n",
              "      <td>group C</td>\n",
              "      <td>associate's degree</td>\n",
              "      <td>free/reduced</td>\n",
              "      <td>none</td>\n",
              "      <td>NaN</td>\n",
              "      <td>22.0</td>\n",
              "      <td>61.0</td>\n",
              "    </tr>\n",
              "  </tbody>\n",
              "</table>\n",
              "</div>"
            ],
            "text/plain": [
              "    gender     race          parent_edu         lunch course_completed  \\\n",
              "0   female  group B   bachelor's degree      standard             none   \n",
              "1   female  group C        some college      standard        completed   \n",
              "2   female  group B     master's degree      standard             none   \n",
              "3     male  group A  associate's degree  free/reduced             none   \n",
              "4     male  group C        some college      standard             none   \n",
              "5   female  group B  associate's degree      standard             none   \n",
              "6   female  group B        some college      standard        completed   \n",
              "7     male  group B        some college  free/reduced             none   \n",
              "8     male  group D         high school  free/reduced        completed   \n",
              "9   female  group B         high school  free/reduced             none   \n",
              "10    male  group C  associate's degree      standard             none   \n",
              "11    male  group D  associate's degree      standard             none   \n",
              "12  female  group B         high school      standard             none   \n",
              "13    male  group A        some college      standard        completed   \n",
              "14  female  group A     master's degree      standard             none   \n",
              "15  female  group C    some high school      standard             none   \n",
              "16    male  group C         high school      standard             none   \n",
              "17  female  group B    some high school  free/reduced             none   \n",
              "18    male  group C     master's degree  free/reduced        completed   \n",
              "19  female  group C  associate's degree  free/reduced             none   \n",
              "\n",
              "   score_math  score_reading  score_writing  \n",
              "0          72           72.0           74.0  \n",
              "1          69           90.0           88.0  \n",
              "2          90           95.0           93.0  \n",
              "3          47           57.0           44.0  \n",
              "4          76           78.0           75.0  \n",
              "5          71           83.0           78.0  \n",
              "6          88           95.0           92.0  \n",
              "7          40           43.0           39.0  \n",
              "8          64           64.0           67.0  \n",
              "9          38           60.0           50.0  \n",
              "10         58           54.0           52.0  \n",
              "11         40           52.0           43.0  \n",
              "12         65           81.0           73.0  \n",
              "13         78           72.0           70.0  \n",
              "14         50           53.0           58.0  \n",
              "15         69           75.0           78.0  \n",
              "16         88           89.0           86.0  \n",
              "17        NaN           32.0           28.0  \n",
              "18        NaN           22.0           46.0  \n",
              "19        NaN           22.0           61.0  "
            ]
          },
          "execution_count": 13,
          "metadata": {},
          "output_type": "execute_result"
        }
      ],
      "source": [
        "df = df.rename( columns={\n",
        "    \"race/ethnicity\": \"race\" ,\n",
        "    \"parental level of education\": \"parent_edu\" ,\n",
        "    \"test preparation course\": \"course_completed\" ,\n",
        "    \"math score\": \"score_math\" ,\n",
        "    \"reading score\": \"score_reading\" ,\n",
        "    \"writing score\": \"score_writing\"\n",
        "} )\n",
        "df.head(20)"
      ]
    },
    {
      "cell_type": "code",
      "execution_count": null,
      "id": "7d06239e-06db-4dcc-9d31-234d77ae0146",
      "metadata": {
        "id": "7d06239e-06db-4dcc-9d31-234d77ae0146",
        "outputId": "2a6246fa-543d-47cb-ca5b-f6778b09969e"
      },
      "outputs": [
        {
          "data": {
            "text/html": [
              "<div>\n",
              "<style scoped>\n",
              "    .dataframe tbody tr th:only-of-type {\n",
              "        vertical-align: middle;\n",
              "    }\n",
              "\n",
              "    .dataframe tbody tr th {\n",
              "        vertical-align: top;\n",
              "    }\n",
              "\n",
              "    .dataframe thead th {\n",
              "        text-align: right;\n",
              "    }\n",
              "</style>\n",
              "<table border=\"1\" class=\"dataframe\">\n",
              "  <thead>\n",
              "    <tr style=\"text-align: right;\">\n",
              "      <th></th>\n",
              "      <th>gender</th>\n",
              "      <th>race</th>\n",
              "      <th>parent_edu</th>\n",
              "      <th>lunch</th>\n",
              "      <th>course_completed</th>\n",
              "      <th>score_math</th>\n",
              "      <th>score_reading</th>\n",
              "      <th>score_writing</th>\n",
              "    </tr>\n",
              "  </thead>\n",
              "  <tbody>\n",
              "    <tr>\n",
              "      <th>0</th>\n",
              "      <td>False</td>\n",
              "      <td>False</td>\n",
              "      <td>False</td>\n",
              "      <td>False</td>\n",
              "      <td>False</td>\n",
              "      <td>False</td>\n",
              "      <td>False</td>\n",
              "      <td>False</td>\n",
              "    </tr>\n",
              "    <tr>\n",
              "      <th>1</th>\n",
              "      <td>False</td>\n",
              "      <td>False</td>\n",
              "      <td>False</td>\n",
              "      <td>False</td>\n",
              "      <td>False</td>\n",
              "      <td>False</td>\n",
              "      <td>False</td>\n",
              "      <td>False</td>\n",
              "    </tr>\n",
              "    <tr>\n",
              "      <th>2</th>\n",
              "      <td>False</td>\n",
              "      <td>False</td>\n",
              "      <td>False</td>\n",
              "      <td>False</td>\n",
              "      <td>False</td>\n",
              "      <td>False</td>\n",
              "      <td>False</td>\n",
              "      <td>False</td>\n",
              "    </tr>\n",
              "    <tr>\n",
              "      <th>3</th>\n",
              "      <td>False</td>\n",
              "      <td>False</td>\n",
              "      <td>False</td>\n",
              "      <td>False</td>\n",
              "      <td>False</td>\n",
              "      <td>False</td>\n",
              "      <td>False</td>\n",
              "      <td>False</td>\n",
              "    </tr>\n",
              "    <tr>\n",
              "      <th>4</th>\n",
              "      <td>False</td>\n",
              "      <td>False</td>\n",
              "      <td>False</td>\n",
              "      <td>False</td>\n",
              "      <td>False</td>\n",
              "      <td>False</td>\n",
              "      <td>False</td>\n",
              "      <td>False</td>\n",
              "    </tr>\n",
              "    <tr>\n",
              "      <th>...</th>\n",
              "      <td>...</td>\n",
              "      <td>...</td>\n",
              "      <td>...</td>\n",
              "      <td>...</td>\n",
              "      <td>...</td>\n",
              "      <td>...</td>\n",
              "      <td>...</td>\n",
              "      <td>...</td>\n",
              "    </tr>\n",
              "    <tr>\n",
              "      <th>995</th>\n",
              "      <td>False</td>\n",
              "      <td>False</td>\n",
              "      <td>False</td>\n",
              "      <td>False</td>\n",
              "      <td>False</td>\n",
              "      <td>False</td>\n",
              "      <td>False</td>\n",
              "      <td>False</td>\n",
              "    </tr>\n",
              "    <tr>\n",
              "      <th>996</th>\n",
              "      <td>False</td>\n",
              "      <td>False</td>\n",
              "      <td>False</td>\n",
              "      <td>False</td>\n",
              "      <td>False</td>\n",
              "      <td>False</td>\n",
              "      <td>False</td>\n",
              "      <td>False</td>\n",
              "    </tr>\n",
              "    <tr>\n",
              "      <th>997</th>\n",
              "      <td>False</td>\n",
              "      <td>False</td>\n",
              "      <td>False</td>\n",
              "      <td>False</td>\n",
              "      <td>False</td>\n",
              "      <td>False</td>\n",
              "      <td>False</td>\n",
              "      <td>False</td>\n",
              "    </tr>\n",
              "    <tr>\n",
              "      <th>998</th>\n",
              "      <td>False</td>\n",
              "      <td>False</td>\n",
              "      <td>False</td>\n",
              "      <td>False</td>\n",
              "      <td>False</td>\n",
              "      <td>False</td>\n",
              "      <td>False</td>\n",
              "      <td>False</td>\n",
              "    </tr>\n",
              "    <tr>\n",
              "      <th>999</th>\n",
              "      <td>False</td>\n",
              "      <td>False</td>\n",
              "      <td>False</td>\n",
              "      <td>False</td>\n",
              "      <td>False</td>\n",
              "      <td>False</td>\n",
              "      <td>False</td>\n",
              "      <td>False</td>\n",
              "    </tr>\n",
              "  </tbody>\n",
              "</table>\n",
              "<p>1000 rows × 8 columns</p>\n",
              "</div>"
            ],
            "text/plain": [
              "     gender   race  parent_edu  lunch  course_completed  score_math  \\\n",
              "0     False  False       False  False             False       False   \n",
              "1     False  False       False  False             False       False   \n",
              "2     False  False       False  False             False       False   \n",
              "3     False  False       False  False             False       False   \n",
              "4     False  False       False  False             False       False   \n",
              "..      ...    ...         ...    ...               ...         ...   \n",
              "995   False  False       False  False             False       False   \n",
              "996   False  False       False  False             False       False   \n",
              "997   False  False       False  False             False       False   \n",
              "998   False  False       False  False             False       False   \n",
              "999   False  False       False  False             False       False   \n",
              "\n",
              "     score_reading  score_writing  \n",
              "0            False          False  \n",
              "1            False          False  \n",
              "2            False          False  \n",
              "3            False          False  \n",
              "4            False          False  \n",
              "..             ...            ...  \n",
              "995          False          False  \n",
              "996          False          False  \n",
              "997          False          False  \n",
              "998          False          False  \n",
              "999          False          False  \n",
              "\n",
              "[1000 rows x 8 columns]"
            ]
          },
          "execution_count": 8,
          "metadata": {},
          "output_type": "execute_result"
        }
      ],
      "source": [
        "df.isnull()"
      ]
    },
    {
      "cell_type": "code",
      "execution_count": null,
      "id": "2f56ad06-859a-4489-930c-78a91c6b304a",
      "metadata": {
        "id": "2f56ad06-859a-4489-930c-78a91c6b304a",
        "outputId": "a758abfa-8495-4f43-eaab-116f52ca1f26"
      },
      "outputs": [
        {
          "data": {
            "text/plain": [
              "gender               object\n",
              "race                 object\n",
              "parent_edu           object\n",
              "lunch                object\n",
              "course_completed     object\n",
              "score_math           object\n",
              "score_reading       float64\n",
              "score_writing       float64\n",
              "dtype: object"
            ]
          },
          "execution_count": 9,
          "metadata": {},
          "output_type": "execute_result"
        }
      ],
      "source": [
        "df.dtypes"
      ]
    },
    {
      "cell_type": "code",
      "execution_count": null,
      "id": "9cbf2c84-143f-4cec-859d-f159ff322bd1",
      "metadata": {
        "id": "9cbf2c84-143f-4cec-859d-f159ff322bd1",
        "outputId": "a50753d4-57f9-4c1b-95fc-6612b1e414db"
      },
      "outputs": [
        {
          "data": {
            "text/plain": [
              "gender              0\n",
              "race                0\n",
              "parent_edu          0\n",
              "lunch               0\n",
              "course_completed    0\n",
              "score_math          8\n",
              "score_reading       6\n",
              "score_writing       9\n",
              "dtype: int64"
            ]
          },
          "execution_count": 10,
          "metadata": {},
          "output_type": "execute_result"
        }
      ],
      "source": [
        "df.isnull().sum()"
      ]
    },
    {
      "cell_type": "code",
      "execution_count": null,
      "id": "7c6ef225-713e-4493-9a0a-463c88af5a24",
      "metadata": {
        "id": "7c6ef225-713e-4493-9a0a-463c88af5a24",
        "outputId": "6f5aeefe-19b5-47d2-cfe9-9ebe1a4cde1c"
      },
      "outputs": [
        {
          "data": {
            "text/html": [
              "<div>\n",
              "<style scoped>\n",
              "    .dataframe tbody tr th:only-of-type {\n",
              "        vertical-align: middle;\n",
              "    }\n",
              "\n",
              "    .dataframe tbody tr th {\n",
              "        vertical-align: top;\n",
              "    }\n",
              "\n",
              "    .dataframe thead th {\n",
              "        text-align: right;\n",
              "    }\n",
              "</style>\n",
              "<table border=\"1\" class=\"dataframe\">\n",
              "  <thead>\n",
              "    <tr style=\"text-align: right;\">\n",
              "      <th></th>\n",
              "      <th>gender</th>\n",
              "      <th>race</th>\n",
              "      <th>parent_edu</th>\n",
              "      <th>lunch</th>\n",
              "      <th>course_completed</th>\n",
              "      <th>score_math</th>\n",
              "      <th>score_reading</th>\n",
              "      <th>score_writing</th>\n",
              "    </tr>\n",
              "  </thead>\n",
              "  <tbody>\n",
              "    <tr>\n",
              "      <th>23</th>\n",
              "      <td>female</td>\n",
              "      <td>group C</td>\n",
              "      <td>some high school</td>\n",
              "      <td>standard</td>\n",
              "      <td>none</td>\n",
              "      <td>66.323929</td>\n",
              "      <td>14.0</td>\n",
              "      <td>NaN</td>\n",
              "    </tr>\n",
              "    <tr>\n",
              "      <th>28</th>\n",
              "      <td>male</td>\n",
              "      <td>group C</td>\n",
              "      <td>high school</td>\n",
              "      <td>standard</td>\n",
              "      <td>none</td>\n",
              "      <td>70.000000</td>\n",
              "      <td>4.0</td>\n",
              "      <td>NaN</td>\n",
              "    </tr>\n",
              "    <tr>\n",
              "      <th>940</th>\n",
              "      <td>male</td>\n",
              "      <td>group C</td>\n",
              "      <td>master's degree</td>\n",
              "      <td>free/reduced</td>\n",
              "      <td>completed</td>\n",
              "      <td>72.000000</td>\n",
              "      <td>66.0</td>\n",
              "      <td>NaN</td>\n",
              "    </tr>\n",
              "    <tr>\n",
              "      <th>941</th>\n",
              "      <td>female</td>\n",
              "      <td>group D</td>\n",
              "      <td>master's degree</td>\n",
              "      <td>standard</td>\n",
              "      <td>none</td>\n",
              "      <td>78.000000</td>\n",
              "      <td>91.0</td>\n",
              "      <td>NaN</td>\n",
              "    </tr>\n",
              "    <tr>\n",
              "      <th>942</th>\n",
              "      <td>male</td>\n",
              "      <td>group C</td>\n",
              "      <td>high school</td>\n",
              "      <td>standard</td>\n",
              "      <td>none</td>\n",
              "      <td>81.000000</td>\n",
              "      <td>66.0</td>\n",
              "      <td>NaN</td>\n",
              "    </tr>\n",
              "    <tr>\n",
              "      <th>943</th>\n",
              "      <td>male</td>\n",
              "      <td>group A</td>\n",
              "      <td>some high school</td>\n",
              "      <td>free/reduced</td>\n",
              "      <td>completed</td>\n",
              "      <td>61.000000</td>\n",
              "      <td>62.0</td>\n",
              "      <td>NaN</td>\n",
              "    </tr>\n",
              "    <tr>\n",
              "      <th>944</th>\n",
              "      <td>female</td>\n",
              "      <td>group B</td>\n",
              "      <td>high school</td>\n",
              "      <td>standard</td>\n",
              "      <td>none</td>\n",
              "      <td>58.000000</td>\n",
              "      <td>68.0</td>\n",
              "      <td>NaN</td>\n",
              "    </tr>\n",
              "    <tr>\n",
              "      <th>945</th>\n",
              "      <td>female</td>\n",
              "      <td>group C</td>\n",
              "      <td>associate's degree</td>\n",
              "      <td>standard</td>\n",
              "      <td>none</td>\n",
              "      <td>54.000000</td>\n",
              "      <td>61.0</td>\n",
              "      <td>NaN</td>\n",
              "    </tr>\n",
              "    <tr>\n",
              "      <th>946</th>\n",
              "      <td>male</td>\n",
              "      <td>group B</td>\n",
              "      <td>high school</td>\n",
              "      <td>standard</td>\n",
              "      <td>none</td>\n",
              "      <td>82.000000</td>\n",
              "      <td>82.0</td>\n",
              "      <td>NaN</td>\n",
              "    </tr>\n",
              "  </tbody>\n",
              "</table>\n",
              "</div>"
            ],
            "text/plain": [
              "     gender     race          parent_edu         lunch course_completed  \\\n",
              "23   female  group C    some high school      standard             none   \n",
              "28     male  group C         high school      standard             none   \n",
              "940    male  group C     master's degree  free/reduced        completed   \n",
              "941  female  group D     master's degree      standard             none   \n",
              "942    male  group C         high school      standard             none   \n",
              "943    male  group A    some high school  free/reduced        completed   \n",
              "944  female  group B         high school      standard             none   \n",
              "945  female  group C  associate's degree      standard             none   \n",
              "946    male  group B         high school      standard             none   \n",
              "\n",
              "     score_math  score_reading  score_writing  \n",
              "23    66.323929           14.0            NaN  \n",
              "28    70.000000            4.0            NaN  \n",
              "940   72.000000           66.0            NaN  \n",
              "941   78.000000           91.0            NaN  \n",
              "942   81.000000           66.0            NaN  \n",
              "943   61.000000           62.0            NaN  \n",
              "944   58.000000           68.0            NaN  \n",
              "945   54.000000           61.0            NaN  \n",
              "946   82.000000           82.0            NaN  "
            ]
          },
          "execution_count": 22,
          "metadata": {},
          "output_type": "execute_result"
        }
      ],
      "source": [
        "#null_rows = df.loc[df['Age'].isnull() | df['Gender'].isnull() | df['Salary'].isnull()]\n",
        "null_rows = df.loc[df['score_writing'].isnull()]\n",
        "null_rows"
      ]
    },
    {
      "cell_type": "code",
      "execution_count": null,
      "id": "2d9684ac-97fe-4442-a720-4603ccc2f8a2",
      "metadata": {
        "id": "2d9684ac-97fe-4442-a720-4603ccc2f8a2"
      },
      "outputs": [],
      "source": [
        "df['score_math'] = df['score_math'].replace('?',np.nan)\n",
        "df['score_math'] = df['score_math'].astype('float')\n",
        "df['score_math'].fillna(df['score_math'].mean(), inplace = True)"
      ]
    },
    {
      "cell_type": "code",
      "execution_count": null,
      "id": "b387e2d7-8dd0-4801-b5fb-8f94441f5285",
      "metadata": {
        "id": "b387e2d7-8dd0-4801-b5fb-8f94441f5285"
      },
      "outputs": [],
      "source": [
        "df['score_reading'].fillna(df['score_reading'].mean(),inplace = True)\n",
        "df['score_writing'].fillna(df['score_writing'].mean(),inplace = True)"
      ]
    },
    {
      "cell_type": "code",
      "execution_count": null,
      "id": "974b3db9-6949-4265-a005-d9450759d728",
      "metadata": {
        "id": "974b3db9-6949-4265-a005-d9450759d728",
        "outputId": "22228c73-8bca-4a42-e398-1e213ed45f32"
      },
      "outputs": [
        {
          "data": {
            "text/plain": [
              "gender              0\n",
              "race                0\n",
              "parent_edu          0\n",
              "lunch               0\n",
              "course_completed    0\n",
              "score_math          0\n",
              "score_reading       0\n",
              "score_writing       0\n",
              "dtype: int64"
            ]
          },
          "execution_count": 27,
          "metadata": {},
          "output_type": "execute_result"
        }
      ],
      "source": [
        "df.isnull().sum()"
      ]
    },
    {
      "cell_type": "code",
      "execution_count": null,
      "id": "b1deaa01-b344-4f3f-ad3d-ffb67894755e",
      "metadata": {
        "id": "b1deaa01-b344-4f3f-ad3d-ffb67894755e",
        "outputId": "82061f30-f1f0-4fff-c758-f25f589eabca"
      },
      "outputs": [
        {
          "data": {
            "text/plain": [
              "<Axes: xlabel='score_math', ylabel='Count'>"
            ]
          },
          "execution_count": 34,
          "metadata": {},
          "output_type": "execute_result"
        },
        {
          "data": {
            "image/png": "[encoded data removed]",
            "text/plain": [
              "<Figure size 640x480 with 1 Axes>"
            ]
          },
          "metadata": {},
          "output_type": "display_data"
        }
      ],
      "source": [
        "sns.histplot(df.score_math)"
      ]
    },
    {
      "cell_type": "code",
      "execution_count": null,
      "id": "f44ae998-7a04-4a03-9915-2c164e4402cd",
      "metadata": {
        "id": "f44ae998-7a04-4a03-9915-2c164e4402cd",
        "outputId": "b34a8417-7ab5-4e09-9df0-2a5b6d44125d"
      },
      "outputs": [
        {
          "data": {
            "text/plain": [
              "<Axes: xlabel='score_reading', ylabel='Count'>"
            ]
          },
          "execution_count": 35,
          "metadata": {},
          "output_type": "execute_result"
        },
        {
          "data": {
            "image/png": "[encoded data removed]",
            "text/plain": [
              "<Figure size 640x480 with 1 Axes>"
            ]
          },
          "metadata": {},
          "output_type": "display_data"
        }
      ],
      "source": [
        "sns.histplot(df.score_reading)"
      ]
    },
    {
      "cell_type": "code",
      "execution_count": null,
      "id": "87ea2acd-21a6-4a1b-9d3c-58bf41e32405",
      "metadata": {
        "id": "87ea2acd-21a6-4a1b-9d3c-58bf41e32405",
        "outputId": "9cf1ed14-2b28-4c7c-f19d-4e9e10e57f25"
      },
      "outputs": [
        {
          "data": {
            "text/plain": [
              "<Axes: xlabel='score_writing', ylabel='Count'>"
            ]
          },
          "execution_count": 37,
          "metadata": {},
          "output_type": "execute_result"
        },
        {
          "data": {
            "image/png": "[encoded data removed]",
            "text/plain": [
              "<Figure size 640x480 with 1 Axes>"
            ]
          },
          "metadata": {},
          "output_type": "display_data"
        }
      ],
      "source": [
        "sns.histplot(df.score_writing)"
      ]
    },
    {
      "cell_type": "markdown",
      "id": "12d66e88-e296-49f4-9366-6395c0a0acbd",
      "metadata": {
        "id": "12d66e88-e296-49f4-9366-6395c0a0acbd"
      },
      "source": [
        "#### Removing Outliers\n",
        "Using IGR (Inter Quartile Range) for removing Outliers\n",
        "\n",
        "IQR = Quartile3 – Quartile1\n",
        "\n",
        "Syntax: numpy.percentile(arr, n, axis=None, out=None)\n",
        "Parameters :\n",
        "* arr :input array.\n",
        "* n : percentile value"
      ]
    },
    {
      "cell_type": "code",
      "execution_count": null,
      "id": "d7f05836-cc54-4b43-b86e-253bafbe8bb5",
      "metadata": {
        "id": "d7f05836-cc54-4b43-b86e-253bafbe8bb5"
      },
      "outputs": [],
      "source": [
        "def remove_outliers(\n",
        "    feature_name: str\n",
        "):\n",
        "    global ds\n",
        "    q3 , q1 = np.percentile( ds[ feature_name ] , [ 75 , 25 ] )\n",
        "    iqr = q3 - q1\n",
        "    ds = ds[ (ds[ feature_name ] >= q1 - 1.5 * iqr) & (ds[ feature_name ] <= q3 + 1.5 * iqr) ]"
      ]
    },
    {
      "cell_type": "code",
      "execution_count": null,
      "id": "e9d2d211-197b-4268-a1a6-bc4ddc4364b8",
      "metadata": {
        "id": "e9d2d211-197b-4268-a1a6-bc4ddc4364b8"
      },
      "outputs": [],
      "source": [
        "def removeOutliers(feature:str):\n",
        "    global df\n",
        "    q3 = np.percentile(df[feature],75)\n",
        "    q1 = np.percentile(df[feature],25)\n",
        "    iqr = q3 - q1\n",
        "    lower = q1 - 1.5*iqr\n",
        "    upper = q3 + 1.5*iqr\n",
        "    df = df[(df[feature] > lower) & (df[feature] < upper)]"
      ]
    },
    {
      "cell_type": "code",
      "execution_count": null,
      "id": "4bf45e8c-b1fb-47d7-88c3-dd0b15fad517",
      "metadata": {
        "id": "4bf45e8c-b1fb-47d7-88c3-dd0b15fad517"
      },
      "outputs": [],
      "source": [
        "removeOutliers('score_math')\n",
        "removeOutliers('score_reading')\n",
        "removeOutliers('score_writing')"
      ]
    },
    {
      "cell_type": "code",
      "execution_count": null,
      "id": "ec952e93-5cf4-4567-882a-71bedceee26a",
      "metadata": {
        "id": "ec952e93-5cf4-4567-882a-71bedceee26a",
        "outputId": "6dcce986-8047-49a3-d5e0-772ce04028bc"
      },
      "outputs": [
        {
          "data": {
            "text/plain": [
              "<Axes: xlabel='score_math', ylabel='Count'>"
            ]
          },
          "execution_count": 40,
          "metadata": {},
          "output_type": "execute_result"
        },
        {
          "data": {
            "image/png": "[encoded data removed]",
            "text/plain": [
              "<Figure size 640x480 with 1 Axes>"
            ]
          },
          "metadata": {},
          "output_type": "display_data"
        }
      ],
      "source": [
        "sns.histplot(df.score_math)"
      ]
    },
    {
      "cell_type": "code",
      "execution_count": null,
      "id": "637d24ba-c1f0-47a1-8ff4-b26ee9ed8e17",
      "metadata": {
        "id": "637d24ba-c1f0-47a1-8ff4-b26ee9ed8e17",
        "outputId": "3f471e00-1b7d-4efc-8370-6e54d473c20e"
      },
      "outputs": [
        {
          "data": {
            "text/plain": [
              "<Axes: xlabel='score_writing', ylabel='Count'>"
            ]
          },
          "execution_count": 41,
          "metadata": {},
          "output_type": "execute_result"
        },
        {
          "data": {
            "image/png": "[encoded data removed]",
            "text/plain": [
              "<Figure size 640x480 with 1 Axes>"
            ]
          },
          "metadata": {},
          "output_type": "display_data"
        }
      ],
      "source": [
        "sns.histplot(df.score_writing)"
      ]
    },
    {
      "cell_type": "code",
      "execution_count": null,
      "id": "612af9ca-d19c-4bdf-8b68-f3604fc3018c",
      "metadata": {
        "id": "612af9ca-d19c-4bdf-8b68-f3604fc3018c",
        "outputId": "41b4b359-189e-4801-f58c-3b3b878a4a73"
      },
      "outputs": [
        {
          "data": {
            "text/plain": [
              "gender               object\n",
              "race                 object\n",
              "parent_edu           object\n",
              "lunch                object\n",
              "course_completed     object\n",
              "score_math          float64\n",
              "score_reading       float64\n",
              "score_writing       float64\n",
              "dtype: object"
            ]
          },
          "execution_count": 43,
          "metadata": {},
          "output_type": "execute_result"
        }
      ],
      "source": [
        "df.dtypes"
      ]
    },
    {
      "cell_type": "code",
      "execution_count": null,
      "id": "86872056-f180-433b-8e87-c68c0f887158",
      "metadata": {
        "id": "86872056-f180-433b-8e87-c68c0f887158",
        "outputId": "1e4a549a-b188-447f-ec6b-d7abf5c4f1b7"
      },
      "outputs": [
        {
          "data": {
            "text/plain": [
              "-0.06273448245950487"
            ]
          },
          "execution_count": 44,
          "metadata": {},
          "output_type": "execute_result"
        }
      ],
      "source": [
        "df['score_reading'].skew()"
      ]
    },
    {
      "cell_type": "code",
      "execution_count": null,
      "id": "144e7538-9b24-473c-9c59-17e9451988b7",
      "metadata": {
        "id": "144e7538-9b24-473c-9c59-17e9451988b7"
      },
      "outputs": [],
      "source": [
        "from scipy import stats"
      ]
    },
    {
      "cell_type": "code",
      "execution_count": null,
      "id": "1d0a6e68-18d8-41c7-913f-11488e6882e7",
      "metadata": {
        "id": "1d0a6e68-18d8-41c7-913f-11488e6882e7"
      },
      "outputs": [],
      "source": [
        "df['score_reading'] = np.sqrt(df['score_reading'])"
      ]
    },
    {
      "cell_type": "code",
      "execution_count": null,
      "id": "70172ce6-a6dd-4034-90c0-b88227dfdd5c",
      "metadata": {
        "id": "70172ce6-a6dd-4034-90c0-b88227dfdd5c",
        "outputId": "a8314ab3-7a65-4b66-fc3c-a6bcf62e5870"
      },
      "outputs": [
        {
          "data": {
            "text/plain": [
              "<Axes: xlabel='score_reading', ylabel='Count'>"
            ]
          },
          "execution_count": 52,
          "metadata": {},
          "output_type": "execute_result"
        },
        {
          "data": {
            "image/png": "[encoded data removed]",
            "text/plain": [
              "<Figure size 640x480 with 1 Axes>"
            ]
          },
          "metadata": {},
          "output_type": "display_data"
        }
      ],
      "source": [
        "sns.histplot(df.score_reading)"
      ]
    },
    {
      "cell_type": "code",
      "execution_count": null,
      "id": "0d46c61e-2056-4d02-9433-9cbe1745c5f1",
      "metadata": {
        "id": "0d46c61e-2056-4d02-9433-9cbe1745c5f1"
      },
      "outputs": [],
      "source": []
    }
  ],
  "metadata": {
    "kernelspec": {
      "display_name": "Python 3 (ipykernel)",
      "language": "python",
      "name": "python3"
    },
    "language_info": {
      "codemirror_mode": {
        "name": "ipython",
        "version": 3
      },
      "file_extension": ".py",
      "mimetype": "text/x-python",
      "name": "python",
      "nbconvert_exporter": "python",
      "pygments_lexer": "ipython3",
      "version": "3.8.10"
    },
    "colab": {
      "provenance": [],
      "include_colab_link": true
    }
  },
  "nbformat": 4,
  "nbformat_minor": 5
}
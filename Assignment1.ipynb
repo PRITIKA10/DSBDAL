{
  "cells": [
    {
      "cell_type": "markdown",
      "id": "4170dcf0-c41c-47cd-8864-3ab06fb24421",
      "metadata": {
        "id": "4170dcf0-c41c-47cd-8864-3ab06fb24421"
      },
      "source": [
        "## Data Wrangling I\n",
        "Perform the following operations using Python on any open source dataset (e.g., data.csv)\n",
        "1. Import all the required Python Libraries.\n",
        "2. Locate an open source data from the web (e.g. https://www.kaggle.com). Provide a clear\n",
        "description of the data and its source (i.e., URL of the web site).\n",
        "3. Load the Dataset into pandas data frame.\n",
        "4. Data Preprocessing: check for missing values in the data using pandas insult(), describe()\n",
        "function to get some initial statistics. Provide variable descriptions. Types of variables\n",
        "etc. Check the dimensions of the data frame.\n",
        "5. Data Formatting and Data Normalization: Summarize the types of variables by checking\n",
        "the data types (i.e., character, numeric, integer, factor, and logical) of the variables in the\n",
        "data set. If variables are not in the correct data type, apply proper type conversions.\n",
        "6. Turn categorical variables into quantitative variables in Python.\n",
        "In addition to the codes and outputs, explain every operation that you do in the above steps and\n",
        "explain everything that you do to import/read/scrape the data set."
      ]
    },
    {
      "cell_type": "markdown",
      "id": "56bb051c-240c-4358-8f4f-5e9ddb7a7003",
      "metadata": {
        "id": "56bb051c-240c-4358-8f4f-5e9ddb7a7003"
      },
      "source": [
        "### 1. Import all required Python Libraries"
      ]
    },
    {
      "cell_type": "code",
      "execution_count": null,
      "id": "37dbe41d-fe37-4060-8e77-44d8ef1d4adb",
      "metadata": {
        "id": "37dbe41d-fe37-4060-8e77-44d8ef1d4adb"
      },
      "outputs": [],
      "source": [
        "import numpy as np\n",
        "import pandas as pd\n",
        "import matplotlib as plt"
      ]
    },
    {
      "cell_type": "markdown",
      "id": "ae69023b-8cf4-43a6-ab63-747ac062a5ef",
      "metadata": {
        "id": "ae69023b-8cf4-43a6-ab63-747ac062a5ef"
      },
      "source": [
        "### 2. Locate an Open Source Dataset from the Web\n",
        "\n",
        "Source: https://www.kaggle.com/datasets/uciml/iris?resource=download\n",
        "\n",
        "##### About Dataset\n",
        "The Iris dataset was used in R.A. Fisher's classic 1936 paper, The Use of Multiple Measurements in Taxonomic Problems, and can also be found on the UCI Machine Learning Repository.\n",
        "\n",
        "It includes three iris species with 50 samples each as well as some properties about each flower. One flower species is linearly separable from the other two, but the other two are not linearly separable from each other.\n",
        "\n",
        "The columns in this dataset are:\n",
        "Id\n",
        "SepalLengthCm\n",
        "SepalWidthCm\n",
        "PetalLengthCm\n",
        "PetalWidthCm\n",
        "Species"
      ]
    },
    {
      "cell_type": "markdown",
      "id": "19e41512-9107-4b8d-bf27-464546c88f7a",
      "metadata": {
        "id": "19e41512-9107-4b8d-bf27-464546c88f7a"
      },
      "source": [
        "### 3. Loading the dataset into Pandas Data Frame"
      ]
    },
    {
      "cell_type": "code",
      "execution_count": null,
      "id": "8f49e660-3358-48ee-acb8-ea0efa2c8782",
      "metadata": {
        "id": "8f49e660-3358-48ee-acb8-ea0efa2c8782",
        "outputId": "0b435b0e-b97f-40aa-c1db-4af3bfae4787"
      },
      "outputs": [
        {
          "data": {
            "text/html": [
              "<div>\n",
              "<style scoped>\n",
              "    .dataframe tbody tr th:only-of-type {\n",
              "        vertical-align: middle;\n",
              "    }\n",
              "\n",
              "    .dataframe tbody tr th {\n",
              "        vertical-align: top;\n",
              "    }\n",
              "\n",
              "    .dataframe thead th {\n",
              "        text-align: right;\n",
              "    }\n",
              "</style>\n",
              "<table border=\"1\" class=\"dataframe\">\n",
              "  <thead>\n",
              "    <tr style=\"text-align: right;\">\n",
              "      <th></th>\n",
              "      <th>Id</th>\n",
              "      <th>SepalLengthCm</th>\n",
              "      <th>SepalWidthCm</th>\n",
              "      <th>PetalLengthCm</th>\n",
              "      <th>PetalWidthCm</th>\n",
              "      <th>Species</th>\n",
              "    </tr>\n",
              "  </thead>\n",
              "  <tbody>\n",
              "    <tr>\n",
              "      <th>0</th>\n",
              "      <td>1</td>\n",
              "      <td>5.1</td>\n",
              "      <td>3.5</td>\n",
              "      <td>1.4</td>\n",
              "      <td>0.2</td>\n",
              "      <td>Iris-setosa</td>\n",
              "    </tr>\n",
              "    <tr>\n",
              "      <th>1</th>\n",
              "      <td>2</td>\n",
              "      <td>4.9</td>\n",
              "      <td>3.0</td>\n",
              "      <td>1.4</td>\n",
              "      <td>0.2</td>\n",
              "      <td>Iris-setosa</td>\n",
              "    </tr>\n",
              "    <tr>\n",
              "      <th>2</th>\n",
              "      <td>3</td>\n",
              "      <td>4.7</td>\n",
              "      <td>3.2</td>\n",
              "      <td>1.3</td>\n",
              "      <td>0.2</td>\n",
              "      <td>Iris-setosa</td>\n",
              "    </tr>\n",
              "    <tr>\n",
              "      <th>3</th>\n",
              "      <td>4</td>\n",
              "      <td>4.6</td>\n",
              "      <td>3.1</td>\n",
              "      <td>1.5</td>\n",
              "      <td>0.2</td>\n",
              "      <td>Iris-setosa</td>\n",
              "    </tr>\n",
              "    <tr>\n",
              "      <th>4</th>\n",
              "      <td>5</td>\n",
              "      <td>5.0</td>\n",
              "      <td>3.6</td>\n",
              "      <td>1.4</td>\n",
              "      <td>0.2</td>\n",
              "      <td>Iris-setosa</td>\n",
              "    </tr>\n",
              "  </tbody>\n",
              "</table>\n",
              "</div>"
            ],
            "text/plain": [
              "   Id  SepalLengthCm  SepalWidthCm  PetalLengthCm  PetalWidthCm      Species\n",
              "0   1            5.1           3.5            1.4           0.2  Iris-setosa\n",
              "1   2            4.9           3.0            1.4           0.2  Iris-setosa\n",
              "2   3            4.7           3.2            1.3           0.2  Iris-setosa\n",
              "3   4            4.6           3.1            1.5           0.2  Iris-setosa\n",
              "4   5            5.0           3.6            1.4           0.2  Iris-setosa"
            ]
          },
          "execution_count": 3,
          "metadata": {},
          "output_type": "execute_result"
        }
      ],
      "source": [
        "iris = pd.read_csv('Iris.csv')\n",
        "iris.head()"
      ]
    },
    {
      "cell_type": "markdown",
      "id": "2a3a444f-ad72-4ac9-abf8-dfce172159a4",
      "metadata": {
        "id": "2a3a444f-ad72-4ac9-abf8-dfce172159a4"
      },
      "source": [
        "### 4. Data Preprocessing"
      ]
    },
    {
      "cell_type": "code",
      "execution_count": null,
      "id": "e3d10441-f7c2-4395-b2d6-2a24af308adc",
      "metadata": {
        "id": "e3d10441-f7c2-4395-b2d6-2a24af308adc",
        "outputId": "cbdff16d-dddf-494d-de56-bfc7c5efd5b5"
      },
      "outputs": [
        {
          "data": {
            "text/html": [
              "<div>\n",
              "<style scoped>\n",
              "    .dataframe tbody tr th:only-of-type {\n",
              "        vertical-align: middle;\n",
              "    }\n",
              "\n",
              "    .dataframe tbody tr th {\n",
              "        vertical-align: top;\n",
              "    }\n",
              "\n",
              "    .dataframe thead th {\n",
              "        text-align: right;\n",
              "    }\n",
              "</style>\n",
              "<table border=\"1\" class=\"dataframe\">\n",
              "  <thead>\n",
              "    <tr style=\"text-align: right;\">\n",
              "      <th></th>\n",
              "      <th>Id</th>\n",
              "      <th>SepalLengthCm</th>\n",
              "      <th>SepalWidthCm</th>\n",
              "      <th>PetalLengthCm</th>\n",
              "      <th>PetalWidthCm</th>\n",
              "      <th>Species</th>\n",
              "    </tr>\n",
              "  </thead>\n",
              "  <tbody>\n",
              "    <tr>\n",
              "      <th>0</th>\n",
              "      <td>False</td>\n",
              "      <td>False</td>\n",
              "      <td>False</td>\n",
              "      <td>False</td>\n",
              "      <td>False</td>\n",
              "      <td>False</td>\n",
              "    </tr>\n",
              "    <tr>\n",
              "      <th>1</th>\n",
              "      <td>False</td>\n",
              "      <td>False</td>\n",
              "      <td>False</td>\n",
              "      <td>False</td>\n",
              "      <td>False</td>\n",
              "      <td>False</td>\n",
              "    </tr>\n",
              "    <tr>\n",
              "      <th>2</th>\n",
              "      <td>False</td>\n",
              "      <td>False</td>\n",
              "      <td>False</td>\n",
              "      <td>False</td>\n",
              "      <td>False</td>\n",
              "      <td>False</td>\n",
              "    </tr>\n",
              "    <tr>\n",
              "      <th>3</th>\n",
              "      <td>False</td>\n",
              "      <td>False</td>\n",
              "      <td>False</td>\n",
              "      <td>False</td>\n",
              "      <td>False</td>\n",
              "      <td>False</td>\n",
              "    </tr>\n",
              "    <tr>\n",
              "      <th>4</th>\n",
              "      <td>False</td>\n",
              "      <td>False</td>\n",
              "      <td>False</td>\n",
              "      <td>False</td>\n",
              "      <td>False</td>\n",
              "      <td>False</td>\n",
              "    </tr>\n",
              "    <tr>\n",
              "      <th>...</th>\n",
              "      <td>...</td>\n",
              "      <td>...</td>\n",
              "      <td>...</td>\n",
              "      <td>...</td>\n",
              "      <td>...</td>\n",
              "      <td>...</td>\n",
              "    </tr>\n",
              "    <tr>\n",
              "      <th>145</th>\n",
              "      <td>False</td>\n",
              "      <td>False</td>\n",
              "      <td>False</td>\n",
              "      <td>False</td>\n",
              "      <td>False</td>\n",
              "      <td>False</td>\n",
              "    </tr>\n",
              "    <tr>\n",
              "      <th>146</th>\n",
              "      <td>False</td>\n",
              "      <td>False</td>\n",
              "      <td>False</td>\n",
              "      <td>False</td>\n",
              "      <td>False</td>\n",
              "      <td>False</td>\n",
              "    </tr>\n",
              "    <tr>\n",
              "      <th>147</th>\n",
              "      <td>False</td>\n",
              "      <td>False</td>\n",
              "      <td>False</td>\n",
              "      <td>False</td>\n",
              "      <td>False</td>\n",
              "      <td>False</td>\n",
              "    </tr>\n",
              "    <tr>\n",
              "      <th>148</th>\n",
              "      <td>False</td>\n",
              "      <td>False</td>\n",
              "      <td>False</td>\n",
              "      <td>False</td>\n",
              "      <td>False</td>\n",
              "      <td>False</td>\n",
              "    </tr>\n",
              "    <tr>\n",
              "      <th>149</th>\n",
              "      <td>False</td>\n",
              "      <td>False</td>\n",
              "      <td>False</td>\n",
              "      <td>False</td>\n",
              "      <td>False</td>\n",
              "      <td>False</td>\n",
              "    </tr>\n",
              "  </tbody>\n",
              "</table>\n",
              "<p>150 rows × 6 columns</p>\n",
              "</div>"
            ],
            "text/plain": [
              "        Id  SepalLengthCm  SepalWidthCm  PetalLengthCm  PetalWidthCm  Species\n",
              "0    False          False         False          False         False    False\n",
              "1    False          False         False          False         False    False\n",
              "2    False          False         False          False         False    False\n",
              "3    False          False         False          False         False    False\n",
              "4    False          False         False          False         False    False\n",
              "..     ...            ...           ...            ...           ...      ...\n",
              "145  False          False         False          False         False    False\n",
              "146  False          False         False          False         False    False\n",
              "147  False          False         False          False         False    False\n",
              "148  False          False         False          False         False    False\n",
              "149  False          False         False          False         False    False\n",
              "\n",
              "[150 rows x 6 columns]"
            ]
          },
          "execution_count": 4,
          "metadata": {},
          "output_type": "execute_result"
        }
      ],
      "source": [
        "iris.isnull()"
      ]
    },
    {
      "cell_type": "code",
      "execution_count": null,
      "id": "892af73d-6164-4573-878b-4f028aee94c4",
      "metadata": {
        "id": "892af73d-6164-4573-878b-4f028aee94c4",
        "outputId": "48e39ba4-c513-46fd-a8a5-ac132df1a28f"
      },
      "outputs": [
        {
          "data": {
            "text/html": [
              "<div>\n",
              "<style scoped>\n",
              "    .dataframe tbody tr th:only-of-type {\n",
              "        vertical-align: middle;\n",
              "    }\n",
              "\n",
              "    .dataframe tbody tr th {\n",
              "        vertical-align: top;\n",
              "    }\n",
              "\n",
              "    .dataframe thead th {\n",
              "        text-align: right;\n",
              "    }\n",
              "</style>\n",
              "<table border=\"1\" class=\"dataframe\">\n",
              "  <thead>\n",
              "    <tr style=\"text-align: right;\">\n",
              "      <th></th>\n",
              "      <th>Id</th>\n",
              "      <th>SepalLengthCm</th>\n",
              "      <th>SepalWidthCm</th>\n",
              "      <th>PetalLengthCm</th>\n",
              "      <th>PetalWidthCm</th>\n",
              "    </tr>\n",
              "  </thead>\n",
              "  <tbody>\n",
              "    <tr>\n",
              "      <th>count</th>\n",
              "      <td>150.000000</td>\n",
              "      <td>150.000000</td>\n",
              "      <td>150.000000</td>\n",
              "      <td>150.000000</td>\n",
              "      <td>150.000000</td>\n",
              "    </tr>\n",
              "    <tr>\n",
              "      <th>mean</th>\n",
              "      <td>75.500000</td>\n",
              "      <td>5.843333</td>\n",
              "      <td>3.054000</td>\n",
              "      <td>3.758667</td>\n",
              "      <td>1.198667</td>\n",
              "    </tr>\n",
              "    <tr>\n",
              "      <th>std</th>\n",
              "      <td>43.445368</td>\n",
              "      <td>0.828066</td>\n",
              "      <td>0.433594</td>\n",
              "      <td>1.764420</td>\n",
              "      <td>0.763161</td>\n",
              "    </tr>\n",
              "    <tr>\n",
              "      <th>min</th>\n",
              "      <td>1.000000</td>\n",
              "      <td>4.300000</td>\n",
              "      <td>2.000000</td>\n",
              "      <td>1.000000</td>\n",
              "      <td>0.100000</td>\n",
              "    </tr>\n",
              "    <tr>\n",
              "      <th>25%</th>\n",
              "      <td>38.250000</td>\n",
              "      <td>5.100000</td>\n",
              "      <td>2.800000</td>\n",
              "      <td>1.600000</td>\n",
              "      <td>0.300000</td>\n",
              "    </tr>\n",
              "    <tr>\n",
              "      <th>50%</th>\n",
              "      <td>75.500000</td>\n",
              "      <td>5.800000</td>\n",
              "      <td>3.000000</td>\n",
              "      <td>4.350000</td>\n",
              "      <td>1.300000</td>\n",
              "    </tr>\n",
              "    <tr>\n",
              "      <th>75%</th>\n",
              "      <td>112.750000</td>\n",
              "      <td>6.400000</td>\n",
              "      <td>3.300000</td>\n",
              "      <td>5.100000</td>\n",
              "      <td>1.800000</td>\n",
              "    </tr>\n",
              "    <tr>\n",
              "      <th>max</th>\n",
              "      <td>150.000000</td>\n",
              "      <td>7.900000</td>\n",
              "      <td>4.400000</td>\n",
              "      <td>6.900000</td>\n",
              "      <td>2.500000</td>\n",
              "    </tr>\n",
              "  </tbody>\n",
              "</table>\n",
              "</div>"
            ],
            "text/plain": [
              "               Id  SepalLengthCm  SepalWidthCm  PetalLengthCm  PetalWidthCm\n",
              "count  150.000000     150.000000    150.000000     150.000000    150.000000\n",
              "mean    75.500000       5.843333      3.054000       3.758667      1.198667\n",
              "std     43.445368       0.828066      0.433594       1.764420      0.763161\n",
              "min      1.000000       4.300000      2.000000       1.000000      0.100000\n",
              "25%     38.250000       5.100000      2.800000       1.600000      0.300000\n",
              "50%     75.500000       5.800000      3.000000       4.350000      1.300000\n",
              "75%    112.750000       6.400000      3.300000       5.100000      1.800000\n",
              "max    150.000000       7.900000      4.400000       6.900000      2.500000"
            ]
          },
          "execution_count": 5,
          "metadata": {},
          "output_type": "execute_result"
        }
      ],
      "source": [
        "iris.describe()"
      ]
    },
    {
      "cell_type": "code",
      "execution_count": null,
      "id": "b06f0d23-0327-4c97-acb7-bdb335418e95",
      "metadata": {
        "id": "b06f0d23-0327-4c97-acb7-bdb335418e95",
        "outputId": "a9d44470-8a93-4230-f93c-e323df89cc7a"
      },
      "outputs": [
        {
          "data": {
            "text/plain": [
              "Id                 int64\n",
              "SepalLengthCm    float64\n",
              "SepalWidthCm     float64\n",
              "PetalLengthCm    float64\n",
              "PetalWidthCm     float64\n",
              "Species           object\n",
              "dtype: object"
            ]
          },
          "execution_count": 6,
          "metadata": {},
          "output_type": "execute_result"
        }
      ],
      "source": [
        "iris.dtypes"
      ]
    },
    {
      "cell_type": "code",
      "execution_count": null,
      "id": "0e85a04a-89ac-4fb3-bf62-04a6f1986766",
      "metadata": {
        "id": "0e85a04a-89ac-4fb3-bf62-04a6f1986766",
        "outputId": "1fdc8b71-3669-40e6-91d6-d64f604a7679"
      },
      "outputs": [
        {
          "data": {
            "text/plain": [
              "(150, 6)"
            ]
          },
          "execution_count": 8,
          "metadata": {},
          "output_type": "execute_result"
        }
      ],
      "source": [
        "iris.shape"
      ]
    },
    {
      "cell_type": "code",
      "execution_count": null,
      "id": "cd63dc3a-b657-44bb-8187-6412e83a02a8",
      "metadata": {
        "id": "cd63dc3a-b657-44bb-8187-6412e83a02a8",
        "outputId": "0c2cee20-7fc3-4f54-c04f-198a88a95262"
      },
      "outputs": [
        {
          "data": {
            "text/plain": [
              "Id               0\n",
              "SepalLengthCm    0\n",
              "SepalWidthCm     0\n",
              "PetalLengthCm    0\n",
              "PetalWidthCm     0\n",
              "Species          0\n",
              "dtype: int64"
            ]
          },
          "execution_count": 10,
          "metadata": {},
          "output_type": "execute_result"
        }
      ],
      "source": [
        "iris.isnull().sum()"
      ]
    },
    {
      "cell_type": "markdown",
      "id": "c6580ce8-12c5-4893-ae45-0d9f239f90aa",
      "metadata": {
        "id": "c6580ce8-12c5-4893-ae45-0d9f239f90aa"
      },
      "source": [
        "### 5. Data Formatting and Data Normalization"
      ]
    },
    {
      "cell_type": "markdown",
      "id": "0e24465a-43b3-41f5-9b10-4b1c70890a0d",
      "metadata": {
        "id": "0e24465a-43b3-41f5-9b10-4b1c70890a0d"
      },
      "source": [
        "##### Normalization -> Changing the scale of data ( feature scaling )\n",
        "1. Min Max Normalization/ Linear Scaling\n",
        "2. Z-Score Normalization\n",
        "3. Decimal Scaling\n",
        "4. Power Transformation (Square-root, cube-root)\n",
        "5. Log Transformation"
      ]
    },
    {
      "cell_type": "code",
      "execution_count": null,
      "id": "0cc1748f-a3ef-41bf-b113-a2ca8a16872a",
      "metadata": {
        "id": "0cc1748f-a3ef-41bf-b113-a2ca8a16872a"
      },
      "outputs": [],
      "source": [
        "# Using Min Max Normalization\n",
        "\n",
        "def min_max_normalize(name: str):\n",
        "    iris[ name ] = (iris[ name ] - iris[ name ].min()) / ( iris[ name ].max() - iris[ name ].min() )"
      ]
    },
    {
      "cell_type": "code",
      "execution_count": null,
      "id": "4829e748-18b5-485c-bb4a-74a74be87dff",
      "metadata": {
        "id": "4829e748-18b5-485c-bb4a-74a74be87dff"
      },
      "outputs": [],
      "source": [
        "min_max_normalize(\"SepalLengthCm\")\n",
        "min_max_normalize(\"SepalWidthCm\")\n",
        "min_max_normalize(\"PetalLengthCm\")\n",
        "min_max_normalize(\"PetalWidthCm\")"
      ]
    },
    {
      "cell_type": "code",
      "execution_count": null,
      "id": "86e21dfd-b729-4f01-9728-e6aea9b7cc91",
      "metadata": {
        "id": "86e21dfd-b729-4f01-9728-e6aea9b7cc91",
        "outputId": "a87053a4-75ff-4a51-bbdf-672e4ce9afbd"
      },
      "outputs": [
        {
          "data": {
            "text/html": [
              "<div>\n",
              "<style scoped>\n",
              "    .dataframe tbody tr th:only-of-type {\n",
              "        vertical-align: middle;\n",
              "    }\n",
              "\n",
              "    .dataframe tbody tr th {\n",
              "        vertical-align: top;\n",
              "    }\n",
              "\n",
              "    .dataframe thead th {\n",
              "        text-align: right;\n",
              "    }\n",
              "</style>\n",
              "<table border=\"1\" class=\"dataframe\">\n",
              "  <thead>\n",
              "    <tr style=\"text-align: right;\">\n",
              "      <th></th>\n",
              "      <th>Id</th>\n",
              "      <th>SepalLengthCm</th>\n",
              "      <th>SepalWidthCm</th>\n",
              "      <th>PetalLengthCm</th>\n",
              "      <th>PetalWidthCm</th>\n",
              "      <th>Species</th>\n",
              "    </tr>\n",
              "  </thead>\n",
              "  <tbody>\n",
              "    <tr>\n",
              "      <th>0</th>\n",
              "      <td>1</td>\n",
              "      <td>0.222222</td>\n",
              "      <td>0.625000</td>\n",
              "      <td>0.067797</td>\n",
              "      <td>0.041667</td>\n",
              "      <td>Iris-setosa</td>\n",
              "    </tr>\n",
              "    <tr>\n",
              "      <th>1</th>\n",
              "      <td>2</td>\n",
              "      <td>0.166667</td>\n",
              "      <td>0.416667</td>\n",
              "      <td>0.067797</td>\n",
              "      <td>0.041667</td>\n",
              "      <td>Iris-setosa</td>\n",
              "    </tr>\n",
              "    <tr>\n",
              "      <th>2</th>\n",
              "      <td>3</td>\n",
              "      <td>0.111111</td>\n",
              "      <td>0.500000</td>\n",
              "      <td>0.050847</td>\n",
              "      <td>0.041667</td>\n",
              "      <td>Iris-setosa</td>\n",
              "    </tr>\n",
              "    <tr>\n",
              "      <th>3</th>\n",
              "      <td>4</td>\n",
              "      <td>0.083333</td>\n",
              "      <td>0.458333</td>\n",
              "      <td>0.084746</td>\n",
              "      <td>0.041667</td>\n",
              "      <td>Iris-setosa</td>\n",
              "    </tr>\n",
              "    <tr>\n",
              "      <th>4</th>\n",
              "      <td>5</td>\n",
              "      <td>0.194444</td>\n",
              "      <td>0.666667</td>\n",
              "      <td>0.067797</td>\n",
              "      <td>0.041667</td>\n",
              "      <td>Iris-setosa</td>\n",
              "    </tr>\n",
              "  </tbody>\n",
              "</table>\n",
              "</div>"
            ],
            "text/plain": [
              "   Id  SepalLengthCm  SepalWidthCm  PetalLengthCm  PetalWidthCm      Species\n",
              "0   1       0.222222      0.625000       0.067797      0.041667  Iris-setosa\n",
              "1   2       0.166667      0.416667       0.067797      0.041667  Iris-setosa\n",
              "2   3       0.111111      0.500000       0.050847      0.041667  Iris-setosa\n",
              "3   4       0.083333      0.458333       0.084746      0.041667  Iris-setosa\n",
              "4   5       0.194444      0.666667       0.067797      0.041667  Iris-setosa"
            ]
          },
          "execution_count": 15,
          "metadata": {},
          "output_type": "execute_result"
        }
      ],
      "source": [
        "iris.head()"
      ]
    },
    {
      "cell_type": "markdown",
      "id": "71e8e4ad-f0a3-4828-9144-7d841ef89d21",
      "metadata": {
        "id": "71e8e4ad-f0a3-4828-9144-7d841ef89d21"
      },
      "source": [
        "### 6. Turn categorical variables into quantitative variables in Python."
      ]
    },
    {
      "cell_type": "code",
      "execution_count": null,
      "id": "5ccf86d7-b937-45c0-bbbb-91dc6e7f076c",
      "metadata": {
        "id": "5ccf86d7-b937-45c0-bbbb-91dc6e7f076c",
        "outputId": "fa8129fb-b061-4d42-82d2-ca6e1f81bc6b"
      },
      "outputs": [
        {
          "data": {
            "text/plain": [
              "Species\n",
              "Iris-setosa        50\n",
              "Iris-versicolor    50\n",
              "Iris-virginica     50\n",
              "Name: count, dtype: int64"
            ]
          },
          "execution_count": 18,
          "metadata": {},
          "output_type": "execute_result"
        }
      ],
      "source": [
        "iris['Species'].value_counts()"
      ]
    },
    {
      "cell_type": "code",
      "execution_count": null,
      "id": "0240ae9a-68e0-4e4e-932a-8e552beeb721",
      "metadata": {
        "id": "0240ae9a-68e0-4e4e-932a-8e552beeb721"
      },
      "outputs": [],
      "source": [
        "num_code = {\"Species\": {\"Iris-setosa\":1, \"Iris-versicolor\":2,\"Iris-virginica\":3}}\n",
        "iris.replace(num_code,inplace = True)"
      ]
    },
    {
      "cell_type": "code",
      "execution_count": null,
      "id": "3cf91500-4a6e-44a4-b2b9-40e994d79289",
      "metadata": {
        "id": "3cf91500-4a6e-44a4-b2b9-40e994d79289",
        "outputId": "712ce396-d8d7-4379-8fde-e4850eb49fee"
      },
      "outputs": [
        {
          "data": {
            "text/html": [
              "<div>\n",
              "<style scoped>\n",
              "    .dataframe tbody tr th:only-of-type {\n",
              "        vertical-align: middle;\n",
              "    }\n",
              "\n",
              "    .dataframe tbody tr th {\n",
              "        vertical-align: top;\n",
              "    }\n",
              "\n",
              "    .dataframe thead th {\n",
              "        text-align: right;\n",
              "    }\n",
              "</style>\n",
              "<table border=\"1\" class=\"dataframe\">\n",
              "  <thead>\n",
              "    <tr style=\"text-align: right;\">\n",
              "      <th></th>\n",
              "      <th>Id</th>\n",
              "      <th>SepalLengthCm</th>\n",
              "      <th>SepalWidthCm</th>\n",
              "      <th>PetalLengthCm</th>\n",
              "      <th>PetalWidthCm</th>\n",
              "      <th>Species</th>\n",
              "    </tr>\n",
              "  </thead>\n",
              "  <tbody>\n",
              "    <tr>\n",
              "      <th>0</th>\n",
              "      <td>1</td>\n",
              "      <td>0.222222</td>\n",
              "      <td>0.625000</td>\n",
              "      <td>0.067797</td>\n",
              "      <td>0.041667</td>\n",
              "      <td>1</td>\n",
              "    </tr>\n",
              "    <tr>\n",
              "      <th>1</th>\n",
              "      <td>2</td>\n",
              "      <td>0.166667</td>\n",
              "      <td>0.416667</td>\n",
              "      <td>0.067797</td>\n",
              "      <td>0.041667</td>\n",
              "      <td>1</td>\n",
              "    </tr>\n",
              "    <tr>\n",
              "      <th>2</th>\n",
              "      <td>3</td>\n",
              "      <td>0.111111</td>\n",
              "      <td>0.500000</td>\n",
              "      <td>0.050847</td>\n",
              "      <td>0.041667</td>\n",
              "      <td>1</td>\n",
              "    </tr>\n",
              "    <tr>\n",
              "      <th>3</th>\n",
              "      <td>4</td>\n",
              "      <td>0.083333</td>\n",
              "      <td>0.458333</td>\n",
              "      <td>0.084746</td>\n",
              "      <td>0.041667</td>\n",
              "      <td>1</td>\n",
              "    </tr>\n",
              "    <tr>\n",
              "      <th>4</th>\n",
              "      <td>5</td>\n",
              "      <td>0.194444</td>\n",
              "      <td>0.666667</td>\n",
              "      <td>0.067797</td>\n",
              "      <td>0.041667</td>\n",
              "      <td>1</td>\n",
              "    </tr>\n",
              "    <tr>\n",
              "      <th>...</th>\n",
              "      <td>...</td>\n",
              "      <td>...</td>\n",
              "      <td>...</td>\n",
              "      <td>...</td>\n",
              "      <td>...</td>\n",
              "      <td>...</td>\n",
              "    </tr>\n",
              "    <tr>\n",
              "      <th>145</th>\n",
              "      <td>146</td>\n",
              "      <td>0.666667</td>\n",
              "      <td>0.416667</td>\n",
              "      <td>0.711864</td>\n",
              "      <td>0.916667</td>\n",
              "      <td>3</td>\n",
              "    </tr>\n",
              "    <tr>\n",
              "      <th>146</th>\n",
              "      <td>147</td>\n",
              "      <td>0.555556</td>\n",
              "      <td>0.208333</td>\n",
              "      <td>0.677966</td>\n",
              "      <td>0.750000</td>\n",
              "      <td>3</td>\n",
              "    </tr>\n",
              "    <tr>\n",
              "      <th>147</th>\n",
              "      <td>148</td>\n",
              "      <td>0.611111</td>\n",
              "      <td>0.416667</td>\n",
              "      <td>0.711864</td>\n",
              "      <td>0.791667</td>\n",
              "      <td>3</td>\n",
              "    </tr>\n",
              "    <tr>\n",
              "      <th>148</th>\n",
              "      <td>149</td>\n",
              "      <td>0.527778</td>\n",
              "      <td>0.583333</td>\n",
              "      <td>0.745763</td>\n",
              "      <td>0.916667</td>\n",
              "      <td>3</td>\n",
              "    </tr>\n",
              "    <tr>\n",
              "      <th>149</th>\n",
              "      <td>150</td>\n",
              "      <td>0.444444</td>\n",
              "      <td>0.416667</td>\n",
              "      <td>0.694915</td>\n",
              "      <td>0.708333</td>\n",
              "      <td>3</td>\n",
              "    </tr>\n",
              "  </tbody>\n",
              "</table>\n",
              "<p>150 rows × 6 columns</p>\n",
              "</div>"
            ],
            "text/plain": [
              "      Id  SepalLengthCm  SepalWidthCm  PetalLengthCm  PetalWidthCm  Species\n",
              "0      1       0.222222      0.625000       0.067797      0.041667        1\n",
              "1      2       0.166667      0.416667       0.067797      0.041667        1\n",
              "2      3       0.111111      0.500000       0.050847      0.041667        1\n",
              "3      4       0.083333      0.458333       0.084746      0.041667        1\n",
              "4      5       0.194444      0.666667       0.067797      0.041667        1\n",
              "..   ...            ...           ...            ...           ...      ...\n",
              "145  146       0.666667      0.416667       0.711864      0.916667        3\n",
              "146  147       0.555556      0.208333       0.677966      0.750000        3\n",
              "147  148       0.611111      0.416667       0.711864      0.791667        3\n",
              "148  149       0.527778      0.583333       0.745763      0.916667        3\n",
              "149  150       0.444444      0.416667       0.694915      0.708333        3\n",
              "\n",
              "[150 rows x 6 columns]"
            ]
          },
          "execution_count": 24,
          "metadata": {},
          "output_type": "execute_result"
        }
      ],
      "source": [
        "iris"
      ]
    },
    {
      "cell_type": "code",
      "execution_count": null,
      "id": "dca4cfde-fa9e-49a3-ac78-f1c96d155ec9",
      "metadata": {
        "id": "dca4cfde-fa9e-49a3-ac78-f1c96d155ec9"
      },
      "outputs": [],
      "source": []
    }
  ],
  "metadata": {
    "kernelspec": {
      "display_name": "Python 3 (ipykernel)",
      "language": "python",
      "name": "python3"
    },
    "language_info": {
      "codemirror_mode": {
        "name": "ipython",
        "version": 3
      },
      "file_extension": ".py",
      "mimetype": "text/x-python",
      "name": "python",
      "nbconvert_exporter": "python",
      "pygments_lexer": "ipython3",
      "version": "3.8.10"
    },
    "colab": {
      "provenance": []
    }
  },
  "nbformat": 4,
  "nbformat_minor": 5
}